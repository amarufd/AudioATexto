{
  "cells": [
    {
      "cell_type": "code",
      "metadata": {
        "id": "WFikRxUPPVpc",
        "colab_type": "code",
        "colab": {
          "base_uri": "https://localhost:8080/",
          "height": 139
        },
        "outputId": "dd00aa36-5be5-49f5-fd61-77ed01033062",
        "tags": []
      },
      "source": [
        "!pip install SpeechRecognition pydub ffmpy converter ffmpeg-python audioread --upgrade"
      ],
      "execution_count": null,
      "outputs": []
    },
    {
      "cell_type": "code",
      "execution_count": null,
      "metadata": {
        "tags": []
      },
      "outputs": [],
      "source": [
        "!python -m speech_recognition"
      ]
    },
    {
      "cell_type": "code",
      "metadata": {
        "id": "w7Uz6CezkH6_",
        "colab_type": "code",
        "colab": {
          "base_uri": "https://localhost:8080/",
          "height": 350
        },
        "outputId": "ea967571-def0-4526-96f2-24bce2cf633a",
        "tags": []
      },
      "source": [
        "!pip uninstall google-cloud-speech"
      ],
      "execution_count": null,
      "outputs": []
    },
    {
      "cell_type": "code",
      "metadata": {
        "id": "FrvYfocKKqlW",
        "colab_type": "code",
        "colab": {}
      },
      "source": [
        "import requests\n",
        "import speech_recognition as sr\n",
        "import os\n",
        "import shutil\n",
        "import ffmpy\n",
        "import subprocess\n",
        "import glob\n",
        "#from playsound import playsound\n",
        "  \n",
        "from pydub import AudioSegment \n",
        "from pydub.silence import split_on_silence\n",
        "from pydub.playback import play\n",
        "#from converter import Converter"
      ],
      "execution_count": 2,
      "outputs": []
    },
    {
      "cell_type": "code",
      "execution_count": 15,
      "metadata": {},
      "outputs": [],
      "source": [
        "os.chdir('..') "
      ]
    },
    {
      "cell_type": "code",
      "execution_count": 17,
      "metadata": {
        "tags": []
      },
      "outputs": [
        {
          "output_type": "stream",
          "name": "stdout",
          "text": "Traspasando mp4 a wav el archivo: eru-wodh-sxv (2020-07-10 at 05_46 GMT-7).mp4\nmoviendo eru-wodh-sxv (2020-07-10 at 05_46 GMT-7).mp4 a archivos pasados a wav\neru-wodh-sxv (2020-07-10 at 05_46 GMT-7).mp4\nMp4Transformados/eru-wodh-sxv (2020-07-10 at 05_46 GMT-7).mp4\nTraspasando mp4 a wav el archivo: eru-wodh-sxv (2020-07-17 at 05_46 GMT-7).mp4\nmoviendo eru-wodh-sxv (2020-07-17 at 05_46 GMT-7).mp4 a archivos pasados a wav\neru-wodh-sxv (2020-07-17 at 05_46 GMT-7).mp4\nMp4Transformados/eru-wodh-sxv (2020-07-17 at 05_46 GMT-7).mp4\nTraspasando mp4 a wav el archivo: eru-wodh-sxv (2020-07-15 at 05_47 GMT-7).mp4\nmoviendo eru-wodh-sxv (2020-07-15 at 05_47 GMT-7).mp4 a archivos pasados a wav\neru-wodh-sxv (2020-07-15 at 05_47 GMT-7).mp4\nMp4Transformados/eru-wodh-sxv (2020-07-15 at 05_47 GMT-7).mp4\nTraspasando mp4 a wav el archivo: eru-wodh-sxv (2020-07-14 at 05_46 GMT-7).mp4\nmoviendo eru-wodh-sxv (2020-07-14 at 05_46 GMT-7).mp4 a archivos pasados a wav\neru-wodh-sxv (2020-07-14 at 05_46 GMT-7).mp4\nMp4Transformados/eru-wodh-sxv (2020-07-14 at 05_46 GMT-7).mp4\nTraspasando mp4 a wav el archivo: eru-wodh-sxv (2020-07-13 at 05_46 GMT-7).mp4\nmoviendo eru-wodh-sxv (2020-07-13 at 05_46 GMT-7).mp4 a archivos pasados a wav\neru-wodh-sxv (2020-07-13 at 05_46 GMT-7).mp4\nMp4Transformados/eru-wodh-sxv (2020-07-13 at 05_46 GMT-7).mp4\nTraspasando mp4 a wav el archivo: eru-wodh-sxv (2020-07-09 at 05 48 GMT-7).mp4\nmoviendo eru-wodh-sxv (2020-07-09 at 05 48 GMT-7).mp4 a archivos pasados a wav\neru-wodh-sxv (2020-07-09 at 05 48 GMT-7).mp4\nMp4Transformados/eru-wodh-sxv (2020-07-09 at 05 48 GMT-7).mp4\nTraspasando mp4 a wav el archivo: eru-wodh-sxv (2020-07-09 at 05_48 GMT-7).mp4\nmoviendo eru-wodh-sxv (2020-07-09 at 05_48 GMT-7).mp4 a archivos pasados a wav\neru-wodh-sxv (2020-07-09 at 05_48 GMT-7).mp4\nMp4Transformados/eru-wodh-sxv (2020-07-09 at 05_48 GMT-7).mp4\n"
        }
      ],
      "source": [
        "folder = \"discursos\"\n",
        "os.chdir(folder) \n",
        "#print(os.listdir())\n",
        "files = glob.glob(\"*.mp4\")\n",
        "for filename in files:\n",
        "    filenameMp3 = filename[:-4]\n",
        "    print(\"Traspasando mp4 a wav el archivo: \" + filename)\n",
        "    os.system('ffmpeg -i {} -vn -acodec pcm_s16le -ar 44100 -ac 2 {}.wav'.format(filename, filenameMp3))\n",
        "\n",
        "    print(\"moviendo \"+ filename +\" a archivos pasados a wav\")\n",
        "    origen = filename\n",
        "    destino = \"Mp4Transformados/\"+filename\n",
        "    shutil.move(origen, destino)\n",
        "\n",
        "os.chdir('..')"
      ]
    },
    {
      "cell_type": "code",
      "metadata": {
        "id": "wDW3p2MEcug9",
        "colab_type": "code",
        "colab": {}
      },
      "source": [
        "os.listdir()\n",
        "#os.chdir('..')\n"
      ],
      "execution_count": 56,
      "outputs": [
        {
          "output_type": "execute_result",
          "data": {
            "text/plain": "['discursos',\n 'SpeechToTextLocal.ipynb',\n 'audio2texto.py',\n 'trnasformarAmano.txt',\n 'recognized.txt',\n 'SpeechToTextLocalColab.ipynb',\n '.vscode']"
          },
          "metadata": {},
          "execution_count": 56
        }
      ]
    },
    {
      "cell_type": "code",
      "execution_count": 55,
      "metadata": {
        "tags": []
      },
      "outputs": [
        {
          "output_type": "stream",
          "name": "stdout",
          "text": "\ninicia\neru-wodh-sxv (2020-07-09 at 05_48 GMT-7).wav\ndiscursos/eru-wodh-sxv (2020-07-09 at 05_48 GMT-7).wav\ncargando wav\n['discursos', 'SpeechToTextLocal.ipynb', 'audio2texto.py', 'trnasformarAmano.txt', 'recognized.txt', 'SpeechToTextLocalColab.ipynb', '.vscode']\nsplit del audio por silencios\n"
        },
        {
          "output_type": "error",
          "ename": "KeyboardInterrupt",
          "evalue": "",
          "traceback": [
            "---------------------------------------------------------------------------",
            "KeyboardInterrupt                         Traceback (most recent call last)",
            "<ipython-input-55-f3610b6507e1> in <module>()\n      9     print(file)\n     10 \n---> 11     silence_based_conversion(\"discursos/\",file)\n     12     audio2text(file)\n     13 \n",
            "<ipython-input-53-ef22fdab4945> in silence_based_conversion(path, archivo)\n     24         silence_thresh = song.dBFS-14,\n     25         \n---> 26         keep_silence=500\n     27     ) \n     28   \n",
            "/home/amaru/.pyenv/versions/3.6.9/lib/python3.6/site-packages/pydub/silence.py in split_on_silence(audio_segment, min_silence_len, silence_thresh, keep_silence, seek_step)\n    123         [ start - keep_silence, end + keep_silence ]\n    124         for (start,end)\n--> 125             in detect_nonsilent(audio_segment, min_silence_len, silence_thresh, seek_step)\n    126     ]\n    127 \n",
            "/home/amaru/.pyenv/versions/3.6.9/lib/python3.6/site-packages/pydub/silence.py in detect_nonsilent(audio_segment, min_silence_len, silence_thresh, seek_step)\n     63 \n     64 def detect_nonsilent(audio_segment, min_silence_len=1000, silence_thresh=-16, seek_step=1):\n---> 65     silent_ranges = detect_silence(audio_segment, min_silence_len, silence_thresh, seek_step)\n     66     len_seg = len(audio_segment)\n     67 \n",
            "/home/amaru/.pyenv/versions/3.6.9/lib/python3.6/site-packages/pydub/silence.py in detect_silence(audio_segment, min_silence_len, silence_thresh, seek_step)\n     29     for i in slice_starts:\n     30         audio_slice = audio_segment[i:i + min_silence_len]\n---> 31         if audio_slice.rms <= silence_thresh:\n     32             silence_starts.append(i)\n     33 \n",
            "/home/amaru/.pyenv/versions/3.6.9/lib/python3.6/site-packages/pydub/audio_segment.py in rms(self)\n   1025     @property\n   1026     def rms(self):\n-> 1027         return audioop.rms(self._data, self.sample_width)\n   1028 \n   1029     @property\n",
            "KeyboardInterrupt: "
          ]
        }
      ],
      "source": [
        "os.chdir('discursos')\n",
        "files = glob.glob(\"*.wav\")\n",
        "os.chdir('..')\n",
        "\n",
        "print()\n",
        "r = sr.Recognizer()\n",
        "print(\"inicia\")\n",
        "for file in files:\n",
        "    print(file)\n",
        "\n",
        "    silence_based_conversion(\"discursos/\",file)\n",
        "    audio2text(file)\n",
        "\n",
        "    print(\"moviendo archivo\")\n",
        "    origen = \"discursos/\"+file\n",
        "    destino = \"discursos/WavListos/\"+file\n",
        "    shutil.move(origen, destino)\n",
        "\n",
        "    shutil.rmtree('audio_chunks')\n",
        "print(\"termina\")\n"
      ]
    },
    {
      "cell_type": "code",
      "metadata": {
        "id": "6iMFQwy8iTEh",
        "colab_type": "code",
        "colab": {}
      },
      "source": [
        "def silence_based_conversion(path,archivo): \n",
        "  \n",
        "    # open the audio file stored in \n",
        "    # the local system as a wav file.\n",
        "    print(path+archivo)\n",
        "    #os.chdir(path)\n",
        "    print(\"cargando wav\")\n",
        "    print(os.listdir())\n",
        "    song = AudioSegment.from_wav(path+archivo)\n",
        "    #os.chdir('..')\n",
        "    #play(song)\n",
        "          \n",
        "    # split track where silence is 0.5 seconds  \n",
        "    # or more and get chunks \n",
        "    print(\"split del audio por silencios\")\n",
        "    chunks = split_on_silence(song, \n",
        "        # must be silent for at least 0.5 seconds \n",
        "        # or 500 ms. adjust this value based on user \n",
        "        # requirement. if the speaker stays silent for  \n",
        "        # longer, increase this value. else, decrease it. \n",
        "        min_silence_len = 500, \n",
        "        # consider it silent if quieter than -16 dBFS \n",
        "        # adjust this per requirement \n",
        "        silence_thresh = song.dBFS-14,\n",
        "        \n",
        "        keep_silence=500\n",
        "    ) \n",
        "  \n",
        "    # create a directory to store the audio chunks. \n",
        "    try: \n",
        "        print(\"creacion del fichero audio_chunks\")\n",
        "        os.mkdir('audio_chunks') \n",
        "    except(FileExistsError): \n",
        "        pass\n",
        "  \n",
        "    # move into the directory to \n",
        "    # store the audio files. \n",
        "    print(\"entra al fichero audio_chunks\")\n",
        "    os.chdir('audio_chunks') \n",
        "  \n",
        "    i = 0\n",
        "    # process each chunk \n",
        "    print(\"se inicia el prceso de los audios\")\n",
        "    for chunk in chunks: \n",
        "              \n",
        "        # Create 0.5 seconds silence chunk \n",
        "        chunk_silent = AudioSegment.silent(duration = 100) \n",
        "  \n",
        "        # add 0.5 sec silence to beginning and  \n",
        "        # end of audio chunk. This is done so that \n",
        "        # it doesn't seem abruptly sliced. \n",
        "        audio_chunk = chunk_silent + chunk + chunk_silent \n",
        "  \n",
        "        # export audio chunk and save it in  \n",
        "        # the current directory. \n",
        "        print(\"saving chunk{0}.wav\".format(i)) \n",
        "        # specify the bitrate to be 192 k \n",
        "        audio_chunk.export(\"./chunk{0}.wav\".format(i), bitrate ='192k', format =\"wav\") \n",
        "  \n",
        "        # the name of the newly created chunk \n",
        "        filename = 'chunk'+str(i)+'.wav'\n",
        "        print(\"Processing chunk \"+str(i)+\" - filename: \"+filename) \n",
        "        \n",
        "        i += 1\n",
        "  \n",
        "        \n",
        "\n",
        "    print(\"paso atras en la carpeta\")\n",
        "    os.chdir('..') \n",
        "  "
      ],
      "execution_count": 53,
      "outputs": []
    },
    {
      "cell_type": "code",
      "execution_count": 25,
      "metadata": {},
      "outputs": [],
      "source": [
        "def audio2text(archivo = \"recognized\"):\n",
        "    \n",
        "    os.chdir(\"audio_chunks\")\n",
        "\n",
        "    # open a file where we will concatenate   \n",
        "    # and store the recognized text \n",
        "    print(\"creando archivo recognized.txt\")\n",
        "    fh = open(\"../discursos/\"+archivo[:-4]+\".txt\", \"w+\") \n",
        "\n",
        "    audios = os.listdir()\n",
        "\n",
        "    i = 0\n",
        "    for audio in audios:\n",
        "        # get the name of the newly created chunk \n",
        "        # in the AUDIO_FILE variable for later use.\n",
        "        file = \"chunk{0}.wav\".format(i)\n",
        "        i += 1\n",
        "        print(file)\n",
        "\n",
        "        # create a speech recognition object \n",
        "        r = sr.Recognizer()\n",
        "\n",
        "        # recognize the chunk \n",
        "        with sr.AudioFile(file) as source: \n",
        "\n",
        "            #song = AudioSegment.from_wav(audio)\n",
        "            #play(song)\n",
        "\n",
        "            # remove this if it is not working \n",
        "            # correctly. \n",
        "            print(\"cargando Archivo\")\n",
        "            #r.adjust_for_ambient_noise(source) \n",
        "            audio_listened = r.listen(source)\n",
        "\n",
        "        try: \n",
        "            print(\"------------- tratando de convertir en texto -------------\")\n",
        "            # try converting it to text \n",
        "            rec = r.recognize_google(audio_listened,language=\"es-ES\") \n",
        "            print(rec)\n",
        "            # write the output to the file. \n",
        "            fh.write(rec+\". \") \n",
        "        \n",
        "        # catch any errors. \n",
        "        except sr.UnknownValueError: \n",
        "            print(\"Could not understand audio\") \n",
        "\n",
        "        except sr.RequestError as e: \n",
        "            print(\"Could not request results. check your internet connection\")\n",
        "    \n",
        "    os.chdir('..')"
      ]
    },
    {
      "cell_type": "code",
      "metadata": {
        "id": "ElQETPQN3hFh",
        "colab_type": "code",
        "colab": {
          "base_uri": "https://localhost:8080/",
          "height": 121
        },
        "outputId": "8da3c061-ec75-4a48-f307-9acfd6c9d37b"
      },
      "source": [
        "os.listdir()\n",
        "os.chdir('..') \n",
        "os.listdir()"
      ],
      "execution_count": 17,
      "outputs": [
        {
          "output_type": "execute_result",
          "data": {
            "text/plain": "['audio_chunks',\n 'eru-wodh-sxv (2020-07-09 at 05 48 GMT-7).mp3',\n 'eru-wodh-sxv (2020-07-09 at 05 48 GMT-7).wav',\n 'audio2texto.py',\n 'recognized.txt',\n 'eru-wodh-sxv (2020-07-09 at 05 48 GMT-7).mp4',\n 'reconociendoDiscursos',\n 'API Project-c5c8667a19e3.json',\n '.vscode',\n 'SpeechToText.ipynb']"
          },
          "metadata": {},
          "execution_count": 17
        }
      ]
    },
    {
      "cell_type": "code",
      "execution_count": 5,
      "metadata": {
        "tags": []
      },
      "outputs": [
        {
          "output_type": "stream",
          "name": "stdout",
          "text": "audio_chunks/chunk268.wav\naudio_chunks/chunk267.wav\naudio_chunks/chunk265.wav\naudio_chunks/chunk266.wav\naudio_chunks/chunk263.wav\naudio_chunks/chunk264.wav\naudio_chunks/chunk262.wav\naudio_chunks/chunk261.wav\naudio_chunks/chunk259.wav\naudio_chunks/chunk260.wav\naudio_chunks/chunk257.wav\naudio_chunks/chunk258.wav\naudio_chunks/chunk256.wav\naudio_chunks/chunk255.wav\naudio_chunks/chunk252.wav\naudio_chunks/chunk253.wav\naudio_chunks/chunk254.wav\naudio_chunks/chunk251.wav\naudio_chunks/chunk250.wav\naudio_chunks/chunk248.wav\naudio_chunks/chunk249.wav\naudio_chunks/chunk247.wav\naudio_chunks/chunk244.wav\naudio_chunks/chunk245.wav\naudio_chunks/chunk243.wav\naudio_chunks/chunk246.wav\naudio_chunks/chunk242.wav\naudio_chunks/chunk240.wav\naudio_chunks/chunk241.wav\naudio_chunks/chunk239.wav\naudio_chunks/chunk238.wav\naudio_chunks/chunk237.wav\naudio_chunks/chunk236.wav\naudio_chunks/chunk234.wav\naudio_chunks/chunk235.wav\naudio_chunks/chunk232.wav\naudio_chunks/chunk231.wav\naudio_chunks/chunk233.wav\naudio_chunks/chunk229.wav\naudio_chunks/chunk230.wav\naudio_chunks/chunk228.wav\naudio_chunks/chunk226.wav\naudio_chunks/chunk227.wav\naudio_chunks/chunk225.wav\naudio_chunks/chunk224.wav\naudio_chunks/chunk222.wav\naudio_chunks/chunk221.wav\naudio_chunks/chunk223.wav\naudio_chunks/chunk220.wav\naudio_chunks/chunk219.wav\naudio_chunks/chunk217.wav\naudio_chunks/chunk218.wav\naudio_chunks/chunk216.wav\naudio_chunks/chunk215.wav\naudio_chunks/chunk212.wav\naudio_chunks/chunk213.wav\naudio_chunks/chunk214.wav\naudio_chunks/chunk211.wav\naudio_chunks/chunk209.wav\naudio_chunks/chunk210.wav\naudio_chunks/chunk208.wav\naudio_chunks/chunk207.wav\naudio_chunks/chunk206.wav\naudio_chunks/chunk204.wav\naudio_chunks/chunk205.wav\naudio_chunks/chunk203.wav\naudio_chunks/chunk202.wav\naudio_chunks/chunk201.wav\naudio_chunks/chunk200.wav\naudio_chunks/chunk199.wav\naudio_chunks/chunk196.wav\naudio_chunks/chunk198.wav\naudio_chunks/chunk197.wav\naudio_chunks/chunk193.wav\naudio_chunks/chunk194.wav\naudio_chunks/chunk195.wav\naudio_chunks/chunk192.wav\naudio_chunks/chunk191.wav\naudio_chunks/chunk190.wav\naudio_chunks/chunk189.wav\naudio_chunks/chunk188.wav\naudio_chunks/chunk187.wav\naudio_chunks/chunk186.wav\naudio_chunks/chunk185.wav\naudio_chunks/chunk183.wav\naudio_chunks/chunk184.wav\naudio_chunks/chunk182.wav\naudio_chunks/chunk178.wav\naudio_chunks/chunk181.wav\naudio_chunks/chunk179.wav\naudio_chunks/chunk180.wav\naudio_chunks/chunk176.wav\naudio_chunks/chunk175.wav\naudio_chunks/chunk177.wav\naudio_chunks/chunk174.wav\naudio_chunks/chunk173.wav\naudio_chunks/chunk170.wav\naudio_chunks/chunk171.wav\naudio_chunks/chunk172.wav\naudio_chunks/chunk169.wav\naudio_chunks/chunk167.wav\naudio_chunks/chunk168.wav\naudio_chunks/chunk166.wav\naudio_chunks/chunk163.wav\naudio_chunks/chunk164.wav\naudio_chunks/chunk165.wav\naudio_chunks/chunk161.wav\naudio_chunks/chunk162.wav\naudio_chunks/chunk160.wav\naudio_chunks/chunk159.wav\naudio_chunks/chunk158.wav\naudio_chunks/chunk157.wav\naudio_chunks/chunk156.wav\naudio_chunks/chunk155.wav\naudio_chunks/chunk154.wav\naudio_chunks/chunk153.wav\naudio_chunks/chunk152.wav\naudio_chunks/chunk151.wav\naudio_chunks/chunk150.wav\naudio_chunks/chunk149.wav\naudio_chunks/chunk148.wav\naudio_chunks/chunk147.wav\naudio_chunks/chunk146.wav\naudio_chunks/chunk145.wav\naudio_chunks/chunk143.wav\naudio_chunks/chunk144.wav\naudio_chunks/chunk142.wav\naudio_chunks/chunk141.wav\naudio_chunks/chunk140.wav\naudio_chunks/chunk138.wav\naudio_chunks/chunk139.wav\naudio_chunks/chunk136.wav\naudio_chunks/chunk135.wav\naudio_chunks/chunk137.wav\naudio_chunks/chunk134.wav\naudio_chunks/chunk133.wav\naudio_chunks/chunk132.wav\naudio_chunks/chunk131.wav\naudio_chunks/chunk129.wav\naudio_chunks/chunk130.wav\naudio_chunks/chunk127.wav\naudio_chunks/chunk128.wav\naudio_chunks/chunk125.wav\naudio_chunks/chunk124.wav\naudio_chunks/chunk126.wav\naudio_chunks/chunk123.wav\naudio_chunks/chunk122.wav\naudio_chunks/chunk120.wav\naudio_chunks/chunk121.wav\naudio_chunks/chunk119.wav\naudio_chunks/chunk118.wav\naudio_chunks/chunk117.wav\naudio_chunks/chunk114.wav\naudio_chunks/chunk116.wav\naudio_chunks/chunk113.wav\naudio_chunks/chunk115.wav\naudio_chunks/chunk112.wav\naudio_chunks/chunk111.wav\naudio_chunks/chunk109.wav\naudio_chunks/chunk110.wav\naudio_chunks/chunk107.wav\naudio_chunks/chunk105.wav\naudio_chunks/chunk106.wav\naudio_chunks/chunk108.wav\naudio_chunks/chunk104.wav\naudio_chunks/chunk102.wav\naudio_chunks/chunk103.wav\naudio_chunks/chunk100.wav\naudio_chunks/chunk99.wav\naudio_chunks/chunk101.wav\naudio_chunks/chunk98.wav\naudio_chunks/chunk93.wav\naudio_chunks/chunk94.wav\naudio_chunks/chunk96.wav\naudio_chunks/chunk97.wav\naudio_chunks/chunk95.wav\naudio_chunks/chunk91.wav\naudio_chunks/chunk92.wav\naudio_chunks/chunk88.wav\naudio_chunks/chunk90.wav\naudio_chunks/chunk89.wav\naudio_chunks/chunk87.wav\naudio_chunks/chunk85.wav\naudio_chunks/chunk86.wav\naudio_chunks/chunk83.wav\naudio_chunks/chunk84.wav\naudio_chunks/chunk82.wav\naudio_chunks/chunk81.wav\naudio_chunks/chunk80.wav\naudio_chunks/chunk79.wav\naudio_chunks/chunk78.wav\naudio_chunks/chunk77.wav\naudio_chunks/chunk76.wav\naudio_chunks/chunk74.wav\naudio_chunks/chunk73.wav\naudio_chunks/chunk75.wav\naudio_chunks/chunk72.wav\naudio_chunks/chunk71.wav\naudio_chunks/chunk69.wav\naudio_chunks/chunk70.wav\naudio_chunks/chunk68.wav\naudio_chunks/chunk66.wav\naudio_chunks/chunk67.wav\naudio_chunks/chunk65.wav\naudio_chunks/chunk64.wav\naudio_chunks/chunk63.wav\naudio_chunks/chunk61.wav\naudio_chunks/chunk62.wav\naudio_chunks/chunk60.wav\naudio_chunks/chunk59.wav\naudio_chunks/chunk57.wav\naudio_chunks/chunk56.wav\naudio_chunks/chunk55.wav\naudio_chunks/chunk58.wav\naudio_chunks/chunk54.wav\naudio_chunks/chunk51.wav\naudio_chunks/chunk52.wav\naudio_chunks/chunk53.wav\naudio_chunks/chunk47.wav\naudio_chunks/chunk49.wav\naudio_chunks/chunk48.wav\naudio_chunks/chunk50.wav\naudio_chunks/chunk46.wav\naudio_chunks/chunk45.wav\naudio_chunks/chunk44.wav\naudio_chunks/chunk42.wav\naudio_chunks/chunk41.wav\naudio_chunks/chunk43.wav\naudio_chunks/chunk40.wav\naudio_chunks/chunk39.wav\naudio_chunks/chunk37.wav\naudio_chunks/chunk38.wav\naudio_chunks/chunk36.wav\naudio_chunks/chunk35.wav\naudio_chunks/chunk34.wav\naudio_chunks/chunk31.wav\naudio_chunks/chunk32.wav\naudio_chunks/chunk33.wav\naudio_chunks/chunk28.wav\naudio_chunks/chunk30.wav\naudio_chunks/chunk29.wav\naudio_chunks/chunk26.wav\naudio_chunks/chunk25.wav\naudio_chunks/chunk27.wav\naudio_chunks/chunk24.wav\naudio_chunks/chunk23.wav\naudio_chunks/chunk22.wav\naudio_chunks/chunk21.wav\naudio_chunks/chunk20.wav\naudio_chunks/chunk19.wav\naudio_chunks/chunk16.wav\naudio_chunks/chunk18.wav\naudio_chunks/chunk17.wav\naudio_chunks/chunk14.wav\naudio_chunks/chunk15.wav\naudio_chunks/chunk12.wav\naudio_chunks/chunk13.wav\naudio_chunks/chunk11.wav\naudio_chunks/chunk9.wav\naudio_chunks/chunk10.wav\naudio_chunks/chunk7.wav\naudio_chunks/chunk8.wav\naudio_chunks/chunk4.wav\naudio_chunks/chunk5.wav\naudio_chunks/chunk6.wav\naudio_chunks/chunk2.wav\naudio_chunks/chunk3.wav\naudio_chunks/chunk1.wav\naudio_chunks/chunk0.wav\n"
        }
      ],
      "source": [
        "import glob\n",
        "files = glob.glob(\"audio_chunks/*.wav\")\n",
        "files.sort(key=os.path.getmtime, reverse=True)\n",
        "for file in files:\n",
        "    print(file)"
      ]
    }
  ],
  "metadata": {
    "colab": {
      "name": "SpeechToText.ipynb",
      "provenance": [],
      "collapsed_sections": []
    },
    "kernelspec": {
      "name": "python36964bit369pyenv8867ba5dd5794cf898429060b96b97c8",
      "display_name": "Python 3.6.9 64-bit ('3.6.9': pyenv)"
    }
  },
  "nbformat": 4,
  "nbformat_minor": 0
}