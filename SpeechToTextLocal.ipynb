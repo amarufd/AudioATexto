{
  "cells": [
    {
      "cell_type": "code",
      "metadata": {
        "id": "WFikRxUPPVpc",
        "colab_type": "code",
        "colab": {
          "base_uri": "https://localhost:8080/",
          "height": 139
        },
        "outputId": "dd00aa36-5be5-49f5-fd61-77ed01033062",
        "tags": []
      },
      "source": [
        "!pip install SpeechRecognition pydub ffmpy converter ffmpeg-python audioread google-cloud-speech --upgrade"
      ],
      "execution_count": null,
      "outputs": []
    },
    {
      "cell_type": "code",
      "metadata": {
        "id": "FrvYfocKKqlW",
        "colab_type": "code",
        "colab": {}
      },
      "source": [
        "import requests\n",
        "import speech_recognition as sr\n",
        "import os\n",
        "import shutil\n",
        "import ffmpy\n",
        "import subprocess\n",
        "#from playsound import playsound\n",
        "  \n",
        "from pydub import AudioSegment \n",
        "from pydub.silence import split_on_silence\n",
        "from pydub.playback import play\n",
        "#from converter import Converter"
      ],
      "execution_count": 9,
      "outputs": []
    },
    {
      "cell_type": "code",
      "metadata": {
        "id": "wDW3p2MEcug9",
        "colab_type": "code",
        "colab": {}
      },
      "source": [
        "filename = \"eru-wodh-sxv (2020-07-09 at 05 48 GMT-7).wav\"\n",
        "\n",
        "r = sr.Recognizer()"
      ],
      "execution_count": 2,
      "outputs": []
    },
    {
      "cell_type": "code",
      "metadata": {
        "id": "6iMFQwy8iTEh",
        "colab_type": "code",
        "colab": {}
      },
      "source": [
        "def silence_based_conversion(path): \n",
        "  \n",
        "    # open the audio file stored in \n",
        "    # the local system as a wav file.\n",
        "    print(path)\n",
        "    print(\"cargando wav\")\n",
        "    song = AudioSegment.from_wav(path)\n",
        "    #play(song)\n",
        "          \n",
        "    # split track where silence is 0.5 seconds  \n",
        "    # or more and get chunks \n",
        "    print(\"split del audio por silencios\")\n",
        "    chunks = split_on_silence(song, \n",
        "        # must be silent for at least 0.5 seconds \n",
        "        # or 500 ms. adjust this value based on user \n",
        "        # requirement. if the speaker stays silent for  \n",
        "        # longer, increase this value. else, decrease it. \n",
        "        min_silence_len = 500, \n",
        "        # consider it silent if quieter than -16 dBFS \n",
        "        # adjust this per requirement \n",
        "        silence_thresh = song.dBFS-14,\n",
        "        \n",
        "        keep_silence=500\n",
        "    ) \n",
        "  \n",
        "    # create a directory to store the audio chunks. \n",
        "    try: \n",
        "        print(\"creacion del fichero audio_chunks\")\n",
        "        os.mkdir('audio_chunks') \n",
        "    except(FileExistsError): \n",
        "        pass\n",
        "  \n",
        "    # move into the directory to \n",
        "    # store the audio files. \n",
        "    print(\"entra al fichero audio_chunks\")\n",
        "    os.chdir('audio_chunks') \n",
        "  \n",
        "    i = 0\n",
        "    # process each chunk \n",
        "    print(\"se inicia el prceso de los audios\")\n",
        "    for chunk in chunks: \n",
        "              \n",
        "        # Create 0.5 seconds silence chunk \n",
        "        chunk_silent = AudioSegment.silent(duration = 100) \n",
        "  \n",
        "        # add 0.5 sec silence to beginning and  \n",
        "        # end of audio chunk. This is done so that \n",
        "        # it doesn't seem abruptly sliced. \n",
        "        audio_chunk = chunk_silent + chunk + chunk_silent \n",
        "  \n",
        "        # export audio chunk and save it in  \n",
        "        # the current directory. \n",
        "        print(\"saving chunk{0}.wav\".format(i)) \n",
        "        # specify the bitrate to be 192 k \n",
        "        audio_chunk.export(\"./chunk{0}.wav\".format(i), bitrate ='192k', format =\"wav\") \n",
        "  \n",
        "        # the name of the newly created chunk \n",
        "        filename = 'chunk'+str(i)+'.wav'\n",
        "        print(\"Processing chunk \"+str(i)+\" - filename: \"+filename) \n",
        "        \n",
        "        i += 1\n",
        "  \n",
        "        \n",
        "\n",
        "    print(\"paso atras en la carpeta\")\n",
        "    os.chdir('..') \n",
        "  "
      ],
      "execution_count": 60,
      "outputs": []
    },
    {
      "cell_type": "code",
      "execution_count": 61,
      "metadata": {
        "tags": []
      },
      "outputs": [
        {
          "output_type": "stream",
          "name": "stdout",
          "text": "eru-wodh-sxv (2020-07-09 at 05 48 GMT-7).wav\ncargando wav\nsplit del audio por silencios\ncreacion del fichero audio_chunks\nentra al fichero audio_chunks\nse inicia el prceso de los audios\nsaving chunk0.wav\nProcessing chunk 0 - filename: chunk0.wav\nsaving chunk1.wav\nProcessing chunk 1 - filename: chunk1.wav\nsaving chunk2.wav\nProcessing chunk 2 - filename: chunk2.wav\nsaving chunk3.wav\nProcessing chunk 3 - filename: chunk3.wav\nsaving chunk4.wav\nProcessing chunk 4 - filename: chunk4.wav\nsaving chunk5.wav\nProcessing chunk 5 - filename: chunk5.wav\nsaving chunk6.wav\nProcessing chunk 6 - filename: chunk6.wav\nsaving chunk7.wav\nProcessing chunk 7 - filename: chunk7.wav\nsaving chunk8.wav\nProcessing chunk 8 - filename: chunk8.wav\nsaving chunk9.wav\nProcessing chunk 9 - filename: chunk9.wav\nsaving chunk10.wav\nProcessing chunk 10 - filename: chunk10.wav\nsaving chunk11.wav\nProcessing chunk 11 - filename: chunk11.wav\nsaving chunk12.wav\nProcessing chunk 12 - filename: chunk12.wav\nsaving chunk13.wav\nProcessing chunk 13 - filename: chunk13.wav\nsaving chunk14.wav\nProcessing chunk 14 - filename: chunk14.wav\nsaving chunk15.wav\nProcessing chunk 15 - filename: chunk15.wav\nsaving chunk16.wav\nProcessing chunk 16 - filename: chunk16.wav\nsaving chunk17.wav\nProcessing chunk 17 - filename: chunk17.wav\nsaving chunk18.wav\nProcessing chunk 18 - filename: chunk18.wav\nsaving chunk19.wav\nProcessing chunk 19 - filename: chunk19.wav\nsaving chunk20.wav\nProcessing chunk 20 - filename: chunk20.wav\nsaving chunk21.wav\nProcessing chunk 21 - filename: chunk21.wav\nsaving chunk22.wav\nProcessing chunk 22 - filename: chunk22.wav\nsaving chunk23.wav\nProcessing chunk 23 - filename: chunk23.wav\nsaving chunk24.wav\nProcessing chunk 24 - filename: chunk24.wav\nsaving chunk25.wav\nProcessing chunk 25 - filename: chunk25.wav\nsaving chunk26.wav\nProcessing chunk 26 - filename: chunk26.wav\nsaving chunk27.wav\nProcessing chunk 27 - filename: chunk27.wav\nsaving chunk28.wav\nProcessing chunk 28 - filename: chunk28.wav\nsaving chunk29.wav\nProcessing chunk 29 - filename: chunk29.wav\nsaving chunk30.wav\nProcessing chunk 30 - filename: chunk30.wav\nsaving chunk31.wav\nProcessing chunk 31 - filename: chunk31.wav\nsaving chunk32.wav\nProcessing chunk 32 - filename: chunk32.wav\nsaving chunk33.wav\nProcessing chunk 33 - filename: chunk33.wav\nsaving chunk34.wav\nProcessing chunk 34 - filename: chunk34.wav\nsaving chunk35.wav\nProcessing chunk 35 - filename: chunk35.wav\nsaving chunk36.wav\nProcessing chunk 36 - filename: chunk36.wav\nsaving chunk37.wav\nProcessing chunk 37 - filename: chunk37.wav\nsaving chunk38.wav\nProcessing chunk 38 - filename: chunk38.wav\nsaving chunk39.wav\nProcessing chunk 39 - filename: chunk39.wav\nsaving chunk40.wav\nProcessing chunk 40 - filename: chunk40.wav\nsaving chunk41.wav\nProcessing chunk 41 - filename: chunk41.wav\nsaving chunk42.wav\nProcessing chunk 42 - filename: chunk42.wav\nsaving chunk43.wav\nProcessing chunk 43 - filename: chunk43.wav\nsaving chunk44.wav\nProcessing chunk 44 - filename: chunk44.wav\nsaving chunk45.wav\nProcessing chunk 45 - filename: chunk45.wav\nsaving chunk46.wav\nProcessing chunk 46 - filename: chunk46.wav\nsaving chunk47.wav\nProcessing chunk 47 - filename: chunk47.wav\nsaving chunk48.wav\nProcessing chunk 48 - filename: chunk48.wav\nsaving chunk49.wav\nProcessing chunk 49 - filename: chunk49.wav\nsaving chunk50.wav\nProcessing chunk 50 - filename: chunk50.wav\nsaving chunk51.wav\nProcessing chunk 51 - filename: chunk51.wav\nsaving chunk52.wav\nProcessing chunk 52 - filename: chunk52.wav\nsaving chunk53.wav\nProcessing chunk 53 - filename: chunk53.wav\nsaving chunk54.wav\nProcessing chunk 54 - filename: chunk54.wav\nsaving chunk55.wav\nProcessing chunk 55 - filename: chunk55.wav\nsaving chunk56.wav\nProcessing chunk 56 - filename: chunk56.wav\nsaving chunk57.wav\nProcessing chunk 57 - filename: chunk57.wav\nsaving chunk58.wav\nProcessing chunk 58 - filename: chunk58.wav\nsaving chunk59.wav\nProcessing chunk 59 - filename: chunk59.wav\nsaving chunk60.wav\nProcessing chunk 60 - filename: chunk60.wav\nsaving chunk61.wav\nProcessing chunk 61 - filename: chunk61.wav\nsaving chunk62.wav\nProcessing chunk 62 - filename: chunk62.wav\nsaving chunk63.wav\nProcessing chunk 63 - filename: chunk63.wav\nsaving chunk64.wav\nProcessing chunk 64 - filename: chunk64.wav\nsaving chunk65.wav\nProcessing chunk 65 - filename: chunk65.wav\nsaving chunk66.wav\nProcessing chunk 66 - filename: chunk66.wav\nsaving chunk67.wav\nProcessing chunk 67 - filename: chunk67.wav\nsaving chunk68.wav\nProcessing chunk 68 - filename: chunk68.wav\nsaving chunk69.wav\nProcessing chunk 69 - filename: chunk69.wav\nsaving chunk70.wav\nProcessing chunk 70 - filename: chunk70.wav\nsaving chunk71.wav\nProcessing chunk 71 - filename: chunk71.wav\nsaving chunk72.wav\nProcessing chunk 72 - filename: chunk72.wav\nsaving chunk73.wav\nProcessing chunk 73 - filename: chunk73.wav\nsaving chunk74.wav\nProcessing chunk 74 - filename: chunk74.wav\nsaving chunk75.wav\nProcessing chunk 75 - filename: chunk75.wav\nsaving chunk76.wav\nProcessing chunk 76 - filename: chunk76.wav\nsaving chunk77.wav\nProcessing chunk 77 - filename: chunk77.wav\nsaving chunk78.wav\nProcessing chunk 78 - filename: chunk78.wav\nsaving chunk79.wav\nProcessing chunk 79 - filename: chunk79.wav\nsaving chunk80.wav\nProcessing chunk 80 - filename: chunk80.wav\nsaving chunk81.wav\nProcessing chunk 81 - filename: chunk81.wav\nsaving chunk82.wav\nProcessing chunk 82 - filename: chunk82.wav\nsaving chunk83.wav\nProcessing chunk 83 - filename: chunk83.wav\nsaving chunk84.wav\nProcessing chunk 84 - filename: chunk84.wav\nsaving chunk85.wav\nProcessing chunk 85 - filename: chunk85.wav\nsaving chunk86.wav\nProcessing chunk 86 - filename: chunk86.wav\nsaving chunk87.wav\nProcessing chunk 87 - filename: chunk87.wav\nsaving chunk88.wav\nProcessing chunk 88 - filename: chunk88.wav\nsaving chunk89.wav\nProcessing chunk 89 - filename: chunk89.wav\nsaving chunk90.wav\nProcessing chunk 90 - filename: chunk90.wav\nsaving chunk91.wav\nProcessing chunk 91 - filename: chunk91.wav\nsaving chunk92.wav\nProcessing chunk 92 - filename: chunk92.wav\nsaving chunk93.wav\nProcessing chunk 93 - filename: chunk93.wav\nsaving chunk94.wav\nProcessing chunk 94 - filename: chunk94.wav\nsaving chunk95.wav\nProcessing chunk 95 - filename: chunk95.wav\nsaving chunk96.wav\nProcessing chunk 96 - filename: chunk96.wav\nsaving chunk97.wav\nProcessing chunk 97 - filename: chunk97.wav\nsaving chunk98.wav\nProcessing chunk 98 - filename: chunk98.wav\nsaving chunk99.wav\nProcessing chunk 99 - filename: chunk99.wav\nsaving chunk100.wav\nProcessing chunk 100 - filename: chunk100.wav\nsaving chunk101.wav\nProcessing chunk 101 - filename: chunk101.wav\nsaving chunk102.wav\nProcessing chunk 102 - filename: chunk102.wav\nsaving chunk103.wav\nProcessing chunk 103 - filename: chunk103.wav\nsaving chunk104.wav\nProcessing chunk 104 - filename: chunk104.wav\nsaving chunk105.wav\nProcessing chunk 105 - filename: chunk105.wav\nsaving chunk106.wav\nProcessing chunk 106 - filename: chunk106.wav\nsaving chunk107.wav\nProcessing chunk 107 - filename: chunk107.wav\nsaving chunk108.wav\nProcessing chunk 108 - filename: chunk108.wav\nsaving chunk109.wav\nProcessing chunk 109 - filename: chunk109.wav\nsaving chunk110.wav\nProcessing chunk 110 - filename: chunk110.wav\nsaving chunk111.wav\nProcessing chunk 111 - filename: chunk111.wav\nsaving chunk112.wav\nProcessing chunk 112 - filename: chunk112.wav\nsaving chunk113.wav\nProcessing chunk 113 - filename: chunk113.wav\nsaving chunk114.wav\nProcessing chunk 114 - filename: chunk114.wav\nsaving chunk115.wav\nProcessing chunk 115 - filename: chunk115.wav\nsaving chunk116.wav\nProcessing chunk 116 - filename: chunk116.wav\nsaving chunk117.wav\nProcessing chunk 117 - filename: chunk117.wav\nsaving chunk118.wav\nProcessing chunk 118 - filename: chunk118.wav\nsaving chunk119.wav\nProcessing chunk 119 - filename: chunk119.wav\nsaving chunk120.wav\nProcessing chunk 120 - filename: chunk120.wav\nsaving chunk121.wav\nProcessing chunk 121 - filename: chunk121.wav\nsaving chunk122.wav\nProcessing chunk 122 - filename: chunk122.wav\nsaving chunk123.wav\nProcessing chunk 123 - filename: chunk123.wav\nsaving chunk124.wav\nProcessing chunk 124 - filename: chunk124.wav\nsaving chunk125.wav\nProcessing chunk 125 - filename: chunk125.wav\nsaving chunk126.wav\nProcessing chunk 126 - filename: chunk126.wav\nsaving chunk127.wav\nProcessing chunk 127 - filename: chunk127.wav\nsaving chunk128.wav\nProcessing chunk 128 - filename: chunk128.wav\nsaving chunk129.wav\nProcessing chunk 129 - filename: chunk129.wav\nsaving chunk130.wav\nProcessing chunk 130 - filename: chunk130.wav\nsaving chunk131.wav\nProcessing chunk 131 - filename: chunk131.wav\nsaving chunk132.wav\nProcessing chunk 132 - filename: chunk132.wav\nsaving chunk133.wav\nProcessing chunk 133 - filename: chunk133.wav\nsaving chunk134.wav\nProcessing chunk 134 - filename: chunk134.wav\nsaving chunk135.wav\nProcessing chunk 135 - filename: chunk135.wav\nsaving chunk136.wav\nProcessing chunk 136 - filename: chunk136.wav\nsaving chunk137.wav\nProcessing chunk 137 - filename: chunk137.wav\nsaving chunk138.wav\nProcessing chunk 138 - filename: chunk138.wav\nsaving chunk139.wav\nProcessing chunk 139 - filename: chunk139.wav\nsaving chunk140.wav\nProcessing chunk 140 - filename: chunk140.wav\nsaving chunk141.wav\nProcessing chunk 141 - filename: chunk141.wav\nsaving chunk142.wav\nProcessing chunk 142 - filename: chunk142.wav\nsaving chunk143.wav\nProcessing chunk 143 - filename: chunk143.wav\nsaving chunk144.wav\nProcessing chunk 144 - filename: chunk144.wav\nsaving chunk145.wav\nProcessing chunk 145 - filename: chunk145.wav\nsaving chunk146.wav\nProcessing chunk 146 - filename: chunk146.wav\nsaving chunk147.wav\nProcessing chunk 147 - filename: chunk147.wav\nsaving chunk148.wav\nProcessing chunk 148 - filename: chunk148.wav\nsaving chunk149.wav\nProcessing chunk 149 - filename: chunk149.wav\nsaving chunk150.wav\nProcessing chunk 150 - filename: chunk150.wav\nsaving chunk151.wav\nProcessing chunk 151 - filename: chunk151.wav\nsaving chunk152.wav\nProcessing chunk 152 - filename: chunk152.wav\nsaving chunk153.wav\nProcessing chunk 153 - filename: chunk153.wav\nsaving chunk154.wav\nProcessing chunk 154 - filename: chunk154.wav\nsaving chunk155.wav\nProcessing chunk 155 - filename: chunk155.wav\nsaving chunk156.wav\nProcessing chunk 156 - filename: chunk156.wav\nsaving chunk157.wav\nProcessing chunk 157 - filename: chunk157.wav\nsaving chunk158.wav\nProcessing chunk 158 - filename: chunk158.wav\nsaving chunk159.wav\nProcessing chunk 159 - filename: chunk159.wav\nsaving chunk160.wav\nProcessing chunk 160 - filename: chunk160.wav\nsaving chunk161.wav\nProcessing chunk 161 - filename: chunk161.wav\nsaving chunk162.wav\nProcessing chunk 162 - filename: chunk162.wav\nsaving chunk163.wav\nProcessing chunk 163 - filename: chunk163.wav\nsaving chunk164.wav\nProcessing chunk 164 - filename: chunk164.wav\nsaving chunk165.wav\nProcessing chunk 165 - filename: chunk165.wav\nsaving chunk166.wav\nProcessing chunk 166 - filename: chunk166.wav\nsaving chunk167.wav\nProcessing chunk 167 - filename: chunk167.wav\nsaving chunk168.wav\nProcessing chunk 168 - filename: chunk168.wav\nsaving chunk169.wav\nProcessing chunk 169 - filename: chunk169.wav\nsaving chunk170.wav\nProcessing chunk 170 - filename: chunk170.wav\nsaving chunk171.wav\nProcessing chunk 171 - filename: chunk171.wav\nsaving chunk172.wav\nProcessing chunk 172 - filename: chunk172.wav\nsaving chunk173.wav\nProcessing chunk 173 - filename: chunk173.wav\nsaving chunk174.wav\nProcessing chunk 174 - filename: chunk174.wav\nsaving chunk175.wav\nProcessing chunk 175 - filename: chunk175.wav\nsaving chunk176.wav\nProcessing chunk 176 - filename: chunk176.wav\nsaving chunk177.wav\nProcessing chunk 177 - filename: chunk177.wav\nsaving chunk178.wav\nProcessing chunk 178 - filename: chunk178.wav\nsaving chunk179.wav\nProcessing chunk 179 - filename: chunk179.wav\nsaving chunk180.wav\nProcessing chunk 180 - filename: chunk180.wav\nsaving chunk181.wav\nProcessing chunk 181 - filename: chunk181.wav\nsaving chunk182.wav\nProcessing chunk 182 - filename: chunk182.wav\nsaving chunk183.wav\nProcessing chunk 183 - filename: chunk183.wav\nsaving chunk184.wav\nProcessing chunk 184 - filename: chunk184.wav\nsaving chunk185.wav\nProcessing chunk 185 - filename: chunk185.wav\nsaving chunk186.wav\nProcessing chunk 186 - filename: chunk186.wav\nsaving chunk187.wav\nProcessing chunk 187 - filename: chunk187.wav\nsaving chunk188.wav\nProcessing chunk 188 - filename: chunk188.wav\nsaving chunk189.wav\nProcessing chunk 189 - filename: chunk189.wav\nsaving chunk190.wav\nProcessing chunk 190 - filename: chunk190.wav\nsaving chunk191.wav\nProcessing chunk 191 - filename: chunk191.wav\nsaving chunk192.wav\nProcessing chunk 192 - filename: chunk192.wav\nsaving chunk193.wav\nProcessing chunk 193 - filename: chunk193.wav\nsaving chunk194.wav\nProcessing chunk 194 - filename: chunk194.wav\nsaving chunk195.wav\nProcessing chunk 195 - filename: chunk195.wav\nsaving chunk196.wav\nProcessing chunk 196 - filename: chunk196.wav\nsaving chunk197.wav\nProcessing chunk 197 - filename: chunk197.wav\nsaving chunk198.wav\nProcessing chunk 198 - filename: chunk198.wav\nsaving chunk199.wav\nProcessing chunk 199 - filename: chunk199.wav\nsaving chunk200.wav\nProcessing chunk 200 - filename: chunk200.wav\nsaving chunk201.wav\nProcessing chunk 201 - filename: chunk201.wav\nsaving chunk202.wav\nProcessing chunk 202 - filename: chunk202.wav\nsaving chunk203.wav\nProcessing chunk 203 - filename: chunk203.wav\nsaving chunk204.wav\nProcessing chunk 204 - filename: chunk204.wav\nsaving chunk205.wav\nProcessing chunk 205 - filename: chunk205.wav\nsaving chunk206.wav\nProcessing chunk 206 - filename: chunk206.wav\nsaving chunk207.wav\nProcessing chunk 207 - filename: chunk207.wav\nsaving chunk208.wav\nProcessing chunk 208 - filename: chunk208.wav\nsaving chunk209.wav\nProcessing chunk 209 - filename: chunk209.wav\nsaving chunk210.wav\nProcessing chunk 210 - filename: chunk210.wav\nsaving chunk211.wav\nProcessing chunk 211 - filename: chunk211.wav\nsaving chunk212.wav\nProcessing chunk 212 - filename: chunk212.wav\nsaving chunk213.wav\nProcessing chunk 213 - filename: chunk213.wav\nsaving chunk214.wav\nProcessing chunk 214 - filename: chunk214.wav\nsaving chunk215.wav\nProcessing chunk 215 - filename: chunk215.wav\nsaving chunk216.wav\nProcessing chunk 216 - filename: chunk216.wav\nsaving chunk217.wav\nProcessing chunk 217 - filename: chunk217.wav\nsaving chunk218.wav\nProcessing chunk 218 - filename: chunk218.wav\nsaving chunk219.wav\nProcessing chunk 219 - filename: chunk219.wav\nsaving chunk220.wav\nProcessing chunk 220 - filename: chunk220.wav\nsaving chunk221.wav\nProcessing chunk 221 - filename: chunk221.wav\nsaving chunk222.wav\nProcessing chunk 222 - filename: chunk222.wav\nsaving chunk223.wav\nProcessing chunk 223 - filename: chunk223.wav\nsaving chunk224.wav\nProcessing chunk 224 - filename: chunk224.wav\nsaving chunk225.wav\nProcessing chunk 225 - filename: chunk225.wav\nsaving chunk226.wav\nProcessing chunk 226 - filename: chunk226.wav\nsaving chunk227.wav\nProcessing chunk 227 - filename: chunk227.wav\nsaving chunk228.wav\nProcessing chunk 228 - filename: chunk228.wav\nsaving chunk229.wav\nProcessing chunk 229 - filename: chunk229.wav\nsaving chunk230.wav\nProcessing chunk 230 - filename: chunk230.wav\nsaving chunk231.wav\nProcessing chunk 231 - filename: chunk231.wav\nsaving chunk232.wav\nProcessing chunk 232 - filename: chunk232.wav\nsaving chunk233.wav\nProcessing chunk 233 - filename: chunk233.wav\nsaving chunk234.wav\nProcessing chunk 234 - filename: chunk234.wav\nsaving chunk235.wav\nProcessing chunk 235 - filename: chunk235.wav\nsaving chunk236.wav\nProcessing chunk 236 - filename: chunk236.wav\nsaving chunk237.wav\nProcessing chunk 237 - filename: chunk237.wav\nsaving chunk238.wav\nProcessing chunk 238 - filename: chunk238.wav\nsaving chunk239.wav\nProcessing chunk 239 - filename: chunk239.wav\nsaving chunk240.wav\nProcessing chunk 240 - filename: chunk240.wav\nsaving chunk241.wav\nProcessing chunk 241 - filename: chunk241.wav\nsaving chunk242.wav\nProcessing chunk 242 - filename: chunk242.wav\nsaving chunk243.wav\nProcessing chunk 243 - filename: chunk243.wav\nsaving chunk244.wav\nProcessing chunk 244 - filename: chunk244.wav\nsaving chunk245.wav\nProcessing chunk 245 - filename: chunk245.wav\nsaving chunk246.wav\nProcessing chunk 246 - filename: chunk246.wav\nsaving chunk247.wav\nProcessing chunk 247 - filename: chunk247.wav\nsaving chunk248.wav\nProcessing chunk 248 - filename: chunk248.wav\nsaving chunk249.wav\nProcessing chunk 249 - filename: chunk249.wav\nsaving chunk250.wav\nProcessing chunk 250 - filename: chunk250.wav\nsaving chunk251.wav\nProcessing chunk 251 - filename: chunk251.wav\nsaving chunk252.wav\nProcessing chunk 252 - filename: chunk252.wav\nsaving chunk253.wav\nProcessing chunk 253 - filename: chunk253.wav\nsaving chunk254.wav\nProcessing chunk 254 - filename: chunk254.wav\nsaving chunk255.wav\nProcessing chunk 255 - filename: chunk255.wav\nsaving chunk256.wav\nProcessing chunk 256 - filename: chunk256.wav\nsaving chunk257.wav\nProcessing chunk 257 - filename: chunk257.wav\nsaving chunk258.wav\nProcessing chunk 258 - filename: chunk258.wav\nsaving chunk259.wav\nProcessing chunk 259 - filename: chunk259.wav\nsaving chunk260.wav\nProcessing chunk 260 - filename: chunk260.wav\nsaving chunk261.wav\nProcessing chunk 261 - filename: chunk261.wav\nsaving chunk262.wav\nProcessing chunk 262 - filename: chunk262.wav\nsaving chunk263.wav\nProcessing chunk 263 - filename: chunk263.wav\nsaving chunk264.wav\nProcessing chunk 264 - filename: chunk264.wav\nsaving chunk265.wav\nProcessing chunk 265 - filename: chunk265.wav\nsaving chunk266.wav\nProcessing chunk 266 - filename: chunk266.wav\nsaving chunk267.wav\nProcessing chunk 267 - filename: chunk267.wav\nsaving chunk268.wav\nProcessing chunk 268 - filename: chunk268.wav\npaso atras en la carpeta\n"
        }
      ],
      "source": [
        "silence_based_conversion(filename)"
      ]
    },
    {
      "cell_type": "code",
      "execution_count": 16,
      "metadata": {},
      "outputs": [],
      "source": [
        "def audio2text(folder = 'audio_chunks'):\n",
        "    \n",
        "    os.chdir(folder)\n",
        "\n",
        "    # open a file where we will concatenate   \n",
        "    # and store the recognized text \n",
        "    print(\"creando archivo recognized.txt\")\n",
        "    fh = open(\"../recognized.txt\", \"w+\") \n",
        "\n",
        "    audios = os.listdir()\n",
        "\n",
        "    i = 0\n",
        "    for audio in audios:\n",
        "        # get the name of the newly created chunk \n",
        "        # in the AUDIO_FILE variable for later use.\n",
        "        file = \"chunk{0}.wav\".format(i)\n",
        "        i += 1\n",
        "        print(file)\n",
        "\n",
        "        # create a speech recognition object \n",
        "        r = sr.Recognizer()\n",
        "\n",
        "        # recognize the chunk \n",
        "        with sr.AudioFile(file) as source: \n",
        "\n",
        "            #song = AudioSegment.from_wav(audio)\n",
        "            #play(song)\n",
        "\n",
        "            # remove this if it is not working \n",
        "            # correctly. \n",
        "            print(\"cargando Archivo\")\n",
        "            #r.adjust_for_ambient_noise(source) \n",
        "            audio_listened = r.listen(source)\n",
        "\n",
        "        try: \n",
        "            print(\"------------- tratando de convertir en texto -------------\")\n",
        "            # try converting it to text \n",
        "            rec = r.recognize_google(audio_listened,language=\"es-ES\") \n",
        "            print(rec)\n",
        "            # write the output to the file. \n",
        "            fh.write(rec+\". \") \n",
        "        \n",
        "        # catch any errors. \n",
        "        except sr.UnknownValueError: \n",
        "            print(\"Could not understand audio\") \n",
        "\n",
        "        except sr.RequestError as e: \n",
        "            print(\"Could not request results. check your internet connection\")\n",
        "    \n",
        "    os.chdir('..')"
      ]
    },
    {
      "cell_type": "code",
      "execution_count": 18,
      "metadata": {
        "tags": [
          "outputPrepend"
        ]
      },
      "outputs": [
        {
          "output_type": "stream",
          "name": "stdout",
          "text": "o conté por más 100 por ciento tima\nchunk107.wav\ncargando Archivo\n------------- tratando de convertir en texto -------------\nCould not understand audio\nchunk108.wav\ncargando Archivo\n------------- tratando de convertir en texto -------------\nque reemplace bien digamos fabricar html mano\nchunk109.wav\ncargando Archivo\n------------- tratando de convertir en texto -------------\nTambién estuve viendo\nchunk110.wav\ncargando Archivo\n------------- tratando de convertir en texto -------------\ntemas de manejo del token del Front\nchunk111.wav\ncargando Archivo\n------------- tratando de convertir en texto -------------\nestamos pendiente\nchunk112.wav\ncargando Archivo\n------------- tratando de convertir en texto -------------\ncon respecto a eso que todavía no llegó a un puerto pero voy a voy a seguir ese tema el tema y yo voy a tomar una historia de plantilla para anotar también es ese punto\nchunk113.wav\ncargando Archivo\n------------- tratando de convertir en texto -------------\nBob El trencito\nchunk114.wav\ncargando Archivo\n------------- tratando de convertir en texto -------------\nAyúdanos no tengo ninguna agencia\nchunk115.wav\ncargando Archivo\n------------- tratando de convertir en texto -------------\neso\nchunk116.wav\ncargando Archivo\n------------- tratando de convertir en texto -------------\nCould not understand audio\nchunk117.wav\ncargando Archivo\n------------- tratando de convertir en texto -------------\nCould not understand audio\nchunk118.wav\ncargando Archivo\n------------- tratando de convertir en texto -------------\nsí Eduardo\nchunk119.wav\ncargando Archivo\n------------- tratando de convertir en texto -------------\nBuenos días Bueno ayer estuve viendo el tema del documento de\nchunk120.wav\ncargando Archivo\n------------- tratando de convertir en texto -------------\ndebe de ser prueba para desarrollo del\nchunk121.wav\ncargando Archivo\n------------- tratando de convertir en texto -------------\nel cambio que hice para el servicio del cotizador para\nchunk122.wav\ncargando Archivo\n------------- tratando de convertir en texto -------------\nlos seguros de\nchunk123.wav\ncargando Archivo\n------------- tratando de convertir en texto -------------\nde\nchunk124.wav\ncargando Archivo\n------------- tratando de convertir en texto -------------\nde\nchunk125.wav\ncargando Archivo\n------------- tratando de convertir en texto -------------\nseguro por kilometro\nchunk126.wav\ncargando Archivo\n------------- tratando de convertir en texto -------------\nporque el campo lo voy a tomar todo y quedar y todo eso de la prima fija\nchunk127.wav\ncargando Archivo\n------------- tratando de convertir en texto -------------\nCould not understand audio\nchunk128.wav\ncargando Archivo\n------------- tratando de convertir en texto -------------\nhoy día voy a juntarme con Jorge para ver en qué vaso\nchunk129.wav\ncargando Archivo\n------------- tratando de convertir en texto -------------\nCould not understand audio\nchunk130.wav\ncargando Archivo\n------------- tratando de convertir en texto -------------\na ver si hay que modificar algo en el momento si algo\nchunk131.wav\ncargando Archivo\n------------- tratando de convertir en texto -------------\nque necesiten apoyo\nchunk132.wav\ncargando Archivo\n------------- tratando de convertir en texto -------------\nsí que eso\nchunk133.wav\ncargando Archivo\n------------- tratando de convertir en texto -------------\nya\nchunk134.wav\ncargando Archivo\n------------- tratando de convertir en texto -------------\ncilindro\nchunk135.wav\ncargando Archivo\n------------- tratando de convertir en texto -------------\nya yo estoy haciendo\nchunk136.wav\ncargando Archivo\n------------- tratando de convertir en texto -------------\nCould not understand audio\nchunk137.wav\ncargando Archivo\n------------- tratando de convertir en texto -------------\nvideo modelando el flujo Hitler\nchunk138.wav\ncargando Archivo\n------------- tratando de convertir en texto -------------\nde los proyectos de los libros revistas encuadernadas\nchunk139.wav\ncargando Archivo\n------------- tratando de convertir en texto -------------\nY ayer\nchunk140.wav\ncargando Archivo\n------------- tratando de convertir en texto -------------\nCould not understand audio\nchunk141.wav\ncargando Archivo\n------------- tratando de convertir en texto -------------\nno terminaría porque tengo un problema porque el día que no se puede actuar viajar a Miami Heat de\nchunk142.wav\ncargando Archivo\n------------- tratando de convertir en texto -------------\nde consorcio no se puede autenticar y resolverlo y ya estoy atrasado\nchunk143.wav\ncargando Archivo\n------------- tratando de convertir en texto -------------\nperro súper rápido de ahí partir con otra tarea\nchunk144.wav\ncargando Archivo\n------------- tratando de convertir en texto -------------\nCould not understand audio\nchunk145.wav\ncargando Archivo\n------------- tratando de convertir en texto -------------\nya viene\nchunk146.wav\ncargando Archivo\n------------- tratando de convertir en texto -------------\nya\nchunk147.wav\ncargando Archivo\n------------- tratando de convertir en texto -------------\nya ya ya no estoy esto de login único ayer terminó el desarrollo de una historia y quiero tener datos del cliente\nchunk148.wav\ncargando Archivo\n------------- tratando de convertir en texto -------------\nY eso\nchunk149.wav\ncargando Archivo\n------------- tratando de convertir en texto -------------\ntengo qué\nchunk150.wav\ncargando Archivo\n------------- tratando de convertir en texto -------------\nbueno la dejó arriba la dejé arriba y todo eso y hoy día ya tenemos en la\nchunk151.wav\ncargando Archivo\n------------- tratando de convertir en texto -------------\nCould not understand audio\nchunk152.wav\ncargando Archivo\n------------- tratando de convertir en texto -------------\nreview de la Espe\nchunk153.wav\ncargando Archivo\n------------- tratando de convertir en texto -------------\nyo creo que vamos a tener que estar pensando que vamos a hacer en el siguiente idea\nchunk154.wav\ncargando Archivo\n------------- tratando de convertir en texto -------------\nahí tenemos una historia social liferay que ya no estuvo viviendo El Cristian urra una estimación así como a priori de cuánto nos costaría el cambio\nchunk155.wav\ncargando Archivo\n------------- tratando de convertir en texto -------------\nasí que por ahí voy a estar dándole vuelta eso\nchunk156.wav\ncargando Archivo\n------------- tratando de convertir en texto -------------\neso\nchunk157.wav\ncargando Archivo\n------------- tratando de convertir en texto -------------\nOkay sigue\nchunk158.wav\ncargando Archivo\n------------- tratando de convertir en texto -------------\nHola hola Buen día\nchunk159.wav\ncargando Archivo\n------------- tratando de convertir en texto -------------\nCould not understand audio\nchunk160.wav\ncargando Archivo\n------------- tratando de convertir en texto -------------\nayer\nchunk161.wav\ncargando Archivo\n------------- tratando de convertir en texto -------------\nestuve Prácticamente la mayor parte del día terminando la planilla está donde teníamos\nchunk162.wav\ncargando Archivo\n------------- tratando de convertir en texto -------------\nqué\nchunk163.wav\ncargando Archivo\n------------- tratando de convertir en texto -------------\nque registrar en las integraciones que habían de todas las aplicaciones de consorcio con servicios de la H\nchunk164.wav\ncargando Archivo\n------------- tratando de convertir en texto -------------\npor el cambio este que van a hacer hoy día\nchunk165.wav\ncargando Archivo\n------------- tratando de convertir en texto -------------\ndel protocolo de seguridad\nchunk166.wav\ncargando Archivo\n------------- tratando de convertir en texto -------------\nen laureles Así que Estuvimos viendo eso\nchunk167.wav\ncargando Archivo\n------------- tratando de convertir en texto -------------\nHernán aplicaciones de ceguera prácticamente como como 30 las que aplicaba el cambio\nchunk168.wav\ncargando Archivo\n------------- tratando de convertir en texto -------------\nJorge está medio urgido por ese tema\nchunk169.wav\ncargando Archivo\n------------- tratando de convertir en texto -------------\nla cosa es que en la tarde después tuvimos la reunión con\nchunk170.wav\ncargando Archivo\n------------- tratando de convertir en texto -------------\ncon un técnico allá del h\nchunk171.wav\ncargando Archivo\n------------- tratando de convertir en texto -------------\ny Y aclaro que en realidad lo que van a hacer es es\nchunk172.wav\ncargando Archivo\n------------- tratando de convertir en texto -------------\nDeshabilitar los protocolos antiguos seguridad\nchunk173.wav\ncargando Archivo\n------------- tratando de convertir en texto -------------\nal hdp dps\nchunk174.wav\ncargando Archivo\n------------- tratando de convertir en texto -------------\npero iban a dejar solamente tls 1.2\nchunk175.wav\ncargando Archivo\n------------- tratando de convertir en texto -------------\nentonces O podría afectar si es que los servidores tienen\nchunk176.wav\ncargando Archivo\n------------- tratando de convertir en texto -------------\nNo soportan ese protocolo\nchunk177.wav\ncargando Archivo\n------------- tratando de convertir en texto -------------\nno es que vaya a afectar el protocolo http\nchunk178.wav\ncargando Archivo\n------------- tratando de convertir en texto -------------\nte quiero como pensaba Jorge\nchunk179.wav\ncargando Archivo\n------------- tratando de convertir en texto -------------\nactualmente toda la obligación están\nchunk180.wav\ncargando Archivo\n------------- tratando de convertir en texto -------------\nyéndose http entonces\nchunk181.wav\ncargando Archivo\n------------- tratando de convertir en texto -------------\ntácticamente todo el análisis quisimos\nchunk182.wav\ncargando Archivo\n------------- tratando de convertir en texto -------------\nParaná\nchunk183.wav\ncargando Archivo\n------------- tratando de convertir en texto -------------\npero\nchunk184.wav\ncargando Archivo\n------------- tratando de convertir en texto -------------\nigual sirve para hacer el cambio https que que lo que hay que hacer\nchunk185.wav\ncargando Archivo\n------------- tratando de convertir en texto -------------\nmoto C\nchunk186.wav\ncargando Archivo\n------------- tratando de convertir en texto -------------\nhoy día No no vamos a tener que hacer esos cambios tan apurados porque igual va a seguir funcionando el servicio\nchunk187.wav\ncargando Archivo\n------------- tratando de convertir en texto -------------\nCould not understand audio\nchunk188.wav\ncargando Archivo\n------------- tratando de convertir en texto -------------\ntambién hice pruebas con la corrección que que pidieron para la aplicación de la\nchunk189.wav\ncargando Archivo\n------------- tratando de convertir en texto -------------\nlapin cliente que era la que habíamos corregido la vulnerabilidad en producción de un problema Sí también eso ya ya está aquí mandar instalarlo\nchunk190.wav\ncargando Archivo\n------------- tratando de convertir en texto -------------\nhoy día continuamos con las pruebas del f5\nchunk191.wav\ncargando Archivo\n------------- tratando de convertir en texto -------------\nlas pruebas de carga que están haciendo\nchunk192.wav\ncargando Archivo\n------------- tratando de convertir en texto -------------\nal servicio que se optimizo así que\nchunk193.wav\ncargando Archivo\n------------- tratando de convertir en texto -------------\nvamos a ir con eso\nchunk194.wav\ncargando Archivo\n------------- tratando de convertir en texto -------------\ny\nchunk195.wav\ncargando Archivo\n------------- tratando de convertir en texto -------------\nIgualmente mandé muy tarde lapi\nchunk196.wav\ncargando Archivo\n------------- tratando de convertir en texto -------------\nCould not understand audio\nchunk197.wav\ncargando Archivo\n------------- tratando de convertir en texto -------------\nNo no he tenido mayores problemas\nchunk198.wav\ncargando Archivo\n------------- tratando de convertir en texto -------------\nCould not understand audio\nchunk199.wav\ncargando Archivo\n------------- tratando de convertir en texto -------------\nya\nchunk200.wav\ncargando Archivo\n------------- tratando de convertir en texto -------------\nOigan Lamentablemente nos alcanzó el tiempo yo creo que nos retrasó un poquito Este cambio de\nchunk201.wav\ncargando Archivo\n------------- tratando de convertir en texto -------------\nel\nchunk202.wav\ncargando Archivo\n------------- tratando de convertir en texto -------------\nCould not understand audio\nchunk203.wav\ncargando Archivo\n------------- tratando de convertir en texto -------------\npor favor los que faltan que se quedan haciéndola se quiere las 2.0\nchunk204.wav\ncargando Archivo\n------------- tratando de convertir en texto -------------\nno tenemos\nchunk205.wav\ncargando Archivo\n------------- tratando de convertir en texto -------------\nPunta hondureña\nchunk206.wav\ncargando Archivo\n------------- tratando de convertir en texto -------------\nCould not understand audio\nchunk207.wav\ncargando Archivo\n------------- tratando de convertir en texto -------------\nno sé que me falta pero yo creo que termine\nchunk208.wav\ncargando Archivo\n------------- tratando de convertir en texto -------------\nSigo estudiando\nchunk209.wav\ncargando Archivo\n------------- tratando de convertir en texto -------------\nyuyo\nchunk210.wav\ncargando Archivo\n------------- tratando de convertir en texto -------------\nCould not understand audio\nchunk211.wav\ncargando Archivo\n------------- tratando de convertir en texto -------------\nahora yo estoy en Clayton boarding digital\nchunk212.wav\ncargando Archivo\n------------- tratando de convertir en texto -------------\nAyer estuve viendo temas de plantillas\nchunk213.wav\ncargando Archivo\n------------- tratando de convertir en texto -------------\nCould not understand audio\nchunk214.wav\ncargando Archivo\n------------- tratando de convertir en texto -------------\ny hoy día también voy a hacer lo mismo ideas que toda esta semana\nchunk215.wav\ncargando Archivo\n------------- tratando de convertir en texto -------------\nhagamos\nchunk216.wav\ncargando Archivo\n------------- tratando de convertir en texto -------------\nnombre pantalla seguido\nchunk217.wav\ncargando Archivo\n------------- tratando de convertir en texto -------------\ntratar de terminar toda la plantilla esta semana\nchunk218.wav\ncargando Archivo\n------------- tratando de convertir en texto -------------\nla próxima semana ya empezar con él\nchunk219.wav\ncargando Archivo\n------------- tratando de convertir en texto -------------\nel desarrollo de la del de los formularios\nchunk220.wav\ncargando Archivo\n------------- tratando de convertir en texto -------------\nen el son iguales para pegar sensibilidad tener mínimo volumen una semana para todos\nchunk221.wav\ncargando Archivo\n------------- tratando de convertir en texto -------------\nsideso\nchunk222.wav\ncargando Archivo\n------------- tratando de convertir en texto -------------\nandar de los formularios 1 documentos sector\nchunk223.wav\ncargando Archivo\n------------- tratando de convertir en texto -------------\nsí\nchunk224.wav\ncargando Archivo\n------------- tratando de convertir en texto -------------\nbuena hora para subir caminando\nchunk225.wav\ncargando Archivo\n------------- tratando de convertir en texto -------------\nCarlos no lo sé bien porque las plantillas también son los mismos documentos\nchunk226.wav\ncargando Archivo\n------------- tratando de convertir en texto -------------\nneutral\nchunk227.wav\ncargando Archivo\n------------- tratando de convertir en texto -------------\ncrónico\nchunk228.wav\ncargando Archivo\n------------- tratando de convertir en texto -------------\nCould not understand audio\nchunk229.wav\ncargando Archivo\n------------- tratando de convertir en texto -------------\nLlamar Edu\nchunk230.wav\ncargando Archivo\n------------- tratando de convertir en texto -------------\nescucha su otra reunión Parece ser\nchunk231.wav\ncargando Archivo\n------------- tratando de convertir en texto -------------\ncemic\nchunk232.wav\ncargando Archivo\n------------- tratando de convertir en texto -------------\nsaliendo de reunión y me estaba hablando\nchunk233.wav\ncargando Archivo\n------------- tratando de convertir en texto -------------\nCould not understand audio\nchunk234.wav\ncargando Archivo\n------------- tratando de convertir en texto -------------\nNokia Lima\nchunk235.wav\ncargando Archivo\n------------- tratando de convertir en texto -------------\nCould not understand audio\nchunk236.wav\ncargando Archivo\n------------- tratando de convertir en texto -------------\nCould not understand audio\nchunk237.wav\ncargando Archivo\n------------- tratando de convertir en texto -------------\nLiliana Celeste tarde\nchunk238.wav\ncargando Archivo\n------------- tratando de convertir en texto -------------\nCould not understand audio\nchunk239.wav\ncargando Archivo\n------------- tratando de convertir en texto -------------\nvoy a cachar cambio\nchunk240.wav\ncargando Archivo\n------------- tratando de convertir en texto -------------\nCould not understand audio\nchunk241.wav\ncargando Archivo\n------------- tratando de convertir en texto -------------\na finales de que era para grabarlas pasar información para el curso de ella\nchunk242.wav\ncargando Archivo\n------------- tratando de convertir en texto -------------\nCould not understand audio\nchunk243.wav\ncargando Archivo\n------------- tratando de convertir en texto -------------\nporco rosso\nchunk244.wav\ncargando Archivo\n------------- tratando de convertir en texto -------------\ninversiones En la tarea\nchunk245.wav\ncargando Archivo\n------------- tratando de convertir en texto -------------\nCould not understand audio\nchunk246.wav\ncargando Archivo\n------------- tratando de convertir en texto -------------\npizza\nchunk247.wav\ncargando Archivo\n------------- tratando de convertir en texto -------------\nvas a tener que hablar con un lenguaje más\nchunk248.wav\ncargando Archivo\n------------- tratando de convertir en texto -------------\nmás tarde\nchunk249.wav\ncargando Archivo\n------------- tratando de convertir en texto -------------\nempezar a vender español de verdad\nchunk250.wav\ncargando Archivo\n------------- tratando de convertir en texto -------------\nme siento mal el número no está haciendo la tarea\nchunk251.wav\ncargando Archivo\n------------- tratando de convertir en texto -------------\nCould not understand audio\nchunk252.wav\ncargando Archivo\n------------- tratando de convertir en texto -------------\nQuién era la unidad\nchunk253.wav\ncargando Archivo\n------------- tratando de convertir en texto -------------\nCould not understand audio\nchunk254.wav\ncargando Archivo\n------------- tratando de convertir en texto -------------\nde hecho todo lo que estamos hablando Ahora hay que cortarlo porque\nchunk255.wav\ncargando Archivo\n------------- tratando de convertir en texto -------------\ntour al tigre\nchunk256.wav\ncargando Archivo\n------------- tratando de convertir en texto -------------\nCould not understand audio\nchunk257.wav\ncargando Archivo\n------------- tratando de convertir en texto -------------\nCould not understand audio\nchunk258.wav\ncargando Archivo\n------------- tratando de convertir en texto -------------\nmaldición\nchunk259.wav\ncargando Archivo\n------------- tratando de convertir en texto -------------\nel perro maldito\nchunk260.wav\ncargando Archivo\n------------- tratando de convertir en texto -------------\nlibro que escuchaste nada\nchunk261.wav\ncargando Archivo\n------------- tratando de convertir en texto -------------\nCould not understand audio\nchunk262.wav\ncargando Archivo\n------------- tratando de convertir en texto -------------\ntodavía se está grabando\nchunk263.wav\ncargando Archivo\n------------- tratando de convertir en texto -------------\ndelegación Dónde queda final\nchunk264.wav\ncargando Archivo\n------------- tratando de convertir en texto -------------\nKenan & Kel\nchunk265.wav\ncargando Archivo\n------------- tratando de convertir en texto -------------\nBrian gana en el correo\nchunk266.wav\ncargando Archivo\n------------- tratando de convertir en texto -------------\ndejar de grabar\nchunk267.wav\ncargando Archivo\n------------- tratando de convertir en texto -------------\nahora\nchunk268.wav\ncargando Archivo\n------------- tratando de convertir en texto -------------\nCould not understand audio\n"
        }
      ],
      "source": [
        "#os.chdir('..')\n",
        "audio2text()"
      ]
    },
    {
      "cell_type": "code",
      "metadata": {
        "id": "FC8RMHXV8JUM",
        "colab_type": "code",
        "colab": {
          "base_uri": "https://localhost:8080/",
          "height": 121
        },
        "outputId": "51348cb0-a8aa-45d7-b147-c5d3302a6126"
      },
      "source": [
        "os.listdir()"
      ],
      "execution_count": 12,
      "outputs": [
        {
          "output_type": "execute_result",
          "data": {
            "text/plain": "['chunk87.wav',\n 'chunk212.wav',\n 'chunk152.wav',\n 'chunk209.wav',\n 'chunk107.wav',\n 'chunk244.wav',\n 'chunk163.wav',\n 'chunk117.wav',\n 'chunk129.wav',\n 'chunk148.wav',\n 'chunk83.wav',\n 'chunk46.wav',\n 'chunk242.wav',\n 'chunk164.wav',\n 'chunk36.wav',\n 'chunk57.wav',\n 'chunk47.wav',\n 'chunk261.wav',\n 'chunk69.wav',\n 'chunk159.wav',\n 'chunk123.wav',\n 'chunk28.wav',\n 'chunk100.wav',\n 'chunk191.wav',\n 'chunk114.wav',\n 'chunk74.wav',\n 'chunk173.wav',\n 'chunk136.wav',\n 'chunk77.wav',\n 'chunk14.wav',\n 'chunk265.wav',\n 'chunk245.wav',\n 'chunk149.wav',\n 'chunk240.wav',\n 'chunk93.wav',\n 'chunk109.wav',\n 'chunk26.wav',\n 'chunk257.wav',\n 'chunk12.wav',\n 'chunk217.wav',\n 'chunk45.wav',\n 'chunk258.wav',\n 'chunk11.wav',\n 'chunk94.wav',\n 'chunk255.wav',\n 'chunk208.wav',\n 'chunk24.wav',\n 'chunk216.wav',\n 'chunk161.wav',\n 'chunk236.wav',\n 'chunk76.wav',\n 'chunk263.wav',\n 'chunk190.wav',\n 'chunk234.wav',\n 'chunk56.wav',\n 'chunk167.wav',\n 'chunk91.wav',\n 'chunk183.wav',\n 'chunk1.wav',\n 'chunk49.wav',\n 'chunk99.wav',\n 'chunk48.wav',\n 'chunk42.wav',\n 'chunk147.wav',\n 'chunk186.wav',\n 'chunk7.wav',\n 'chunk243.wav',\n 'chunk199.wav',\n 'chunk184.wav',\n 'chunk232.wav',\n 'chunk154.wav',\n 'chunk112.wav',\n 'chunk13.wav',\n 'chunk188.wav',\n 'chunk229.wav',\n 'chunk213.wav',\n 'chunk116.wav',\n 'chunk51.wav',\n 'chunk113.wav',\n 'chunk110.wav',\n 'chunk104.wav',\n 'chunk4.wav',\n 'chunk222.wav',\n 'chunk196.wav',\n 'chunk250.wav',\n 'chunk61.wav',\n 'chunk178.wav',\n 'chunk73.wav',\n 'chunk160.wav',\n 'chunk221.wav',\n 'chunk141.wav',\n 'chunk246.wav',\n 'chunk181.wav',\n 'chunk179.wav',\n 'chunk96.wav',\n 'chunk98.wav',\n 'chunk134.wav',\n 'chunk206.wav',\n 'chunk54.wav',\n 'chunk247.wav',\n 'chunk78.wav',\n 'chunk60.wav',\n 'chunk157.wav',\n 'chunk207.wav',\n 'chunk198.wav',\n 'chunk88.wav',\n 'chunk176.wav',\n 'chunk40.wav',\n 'chunk65.wav',\n 'chunk193.wav',\n 'chunk268.wav',\n 'chunk226.wav',\n 'chunk105.wav',\n 'chunk187.wav',\n 'chunk22.wav',\n 'chunk127.wav',\n 'chunk35.wav',\n 'chunk20.wav',\n 'chunk133.wav',\n 'chunk224.wav',\n 'chunk52.wav',\n 'chunk21.wav',\n 'chunk85.wav',\n 'chunk204.wav',\n 'chunk252.wav',\n 'chunk102.wav',\n 'chunk25.wav',\n 'chunk248.wav',\n 'chunk130.wav',\n 'chunk16.wav',\n 'chunk106.wav',\n 'chunk140.wav',\n 'chunk146.wav',\n 'chunk175.wav',\n 'chunk44.wav',\n 'chunk53.wav',\n 'chunk266.wav',\n 'chunk120.wav',\n 'chunk264.wav',\n 'chunk180.wav',\n 'chunk210.wav',\n 'chunk41.wav',\n 'chunk253.wav',\n 'chunk135.wav',\n 'chunk84.wav',\n 'chunk125.wav',\n 'chunk142.wav',\n 'chunk64.wav',\n 'chunk189.wav',\n 'chunk34.wav',\n 'chunk197.wav',\n 'chunk220.wav',\n 'chunk62.wav',\n 'chunk219.wav',\n 'chunk143.wav',\n 'chunk72.wav',\n 'chunk138.wav',\n 'chunk81.wav',\n 'chunk241.wav',\n 'chunk5.wav',\n 'chunk153.wav',\n 'chunk194.wav',\n 'chunk30.wav',\n 'chunk6.wav',\n 'chunk165.wav',\n 'chunk238.wav',\n 'chunk18.wav',\n 'chunk80.wav',\n 'chunk70.wav',\n 'chunk31.wav',\n 'chunk15.wav',\n 'chunk90.wav',\n 'chunk59.wav',\n 'chunk139.wav',\n 'chunk122.wav',\n 'chunk97.wav',\n 'chunk254.wav',\n 'chunk43.wav',\n 'chunk201.wav',\n 'chunk156.wav',\n 'chunk115.wav',\n 'chunk29.wav',\n 'chunk39.wav',\n 'chunk32.wav',\n 'chunk63.wav',\n 'chunk2.wav',\n 'chunk37.wav',\n 'chunk151.wav',\n 'chunk162.wav',\n 'chunk55.wav',\n 'chunk71.wav',\n 'chunk214.wav',\n 'chunk79.wav',\n 'chunk19.wav',\n 'chunk145.wav',\n 'chunk259.wav',\n 'chunk27.wav',\n 'chunk237.wav',\n 'chunk131.wav',\n 'chunk170.wav',\n 'chunk9.wav',\n 'chunk251.wav',\n 'chunk10.wav',\n 'chunk75.wav',\n 'chunk200.wav',\n 'chunk17.wav',\n 'chunk211.wav',\n 'chunk249.wav',\n 'chunk205.wav',\n 'chunk195.wav',\n 'chunk215.wav',\n 'chunk185.wav',\n 'chunk174.wav',\n 'chunk0.wav',\n 'chunk38.wav',\n 'chunk228.wav',\n 'chunk124.wav',\n 'chunk86.wav',\n 'chunk262.wav',\n 'chunk168.wav',\n 'chunk50.wav',\n 'chunk121.wav',\n 'chunk256.wav',\n 'chunk260.wav',\n 'chunk235.wav',\n 'chunk95.wav',\n 'chunk155.wav',\n 'chunk203.wav',\n 'chunk68.wav',\n 'chunk33.wav',\n 'chunk111.wav',\n 'chunk223.wav',\n 'chunk137.wav',\n 'chunk132.wav',\n 'chunk150.wav',\n 'chunk158.wav',\n 'chunk218.wav',\n 'chunk92.wav',\n 'chunk171.wav',\n 'chunk231.wav',\n 'chunk23.wav',\n 'chunk182.wav',\n 'chunk119.wav',\n 'chunk202.wav',\n 'chunk128.wav',\n 'chunk103.wav',\n 'chunk66.wav',\n 'chunk227.wav',\n 'chunk230.wav',\n 'chunk118.wav',\n 'chunk3.wav',\n 'chunk108.wav',\n 'chunk144.wav',\n 'chunk166.wav',\n 'chunk101.wav',\n 'chunk239.wav',\n 'chunk225.wav',\n 'chunk267.wav',\n 'chunk169.wav',\n 'chunk233.wav',\n 'chunk126.wav',\n 'chunk82.wav',\n 'chunk67.wav',\n 'chunk192.wav',\n 'chunk177.wav',\n 'chunk8.wav',\n 'chunk58.wav',\n 'chunk89.wav',\n 'chunk172.wav']"
          },
          "metadata": {},
          "execution_count": 12
        }
      ]
    },
    {
      "cell_type": "code",
      "metadata": {
        "id": "ElQETPQN3hFh",
        "colab_type": "code",
        "colab": {
          "base_uri": "https://localhost:8080/",
          "height": 121
        },
        "outputId": "8da3c061-ec75-4a48-f307-9acfd6c9d37b"
      },
      "source": [
        "os.chdir('..') \n",
        "os.listdir()"
      ],
      "execution_count": 17,
      "outputs": [
        {
          "output_type": "execute_result",
          "data": {
            "text/plain": "['audio_chunks',\n 'eru-wodh-sxv (2020-07-09 at 05 48 GMT-7).mp3',\n 'eru-wodh-sxv (2020-07-09 at 05 48 GMT-7).wav',\n 'audio2texto.py',\n 'recognized.txt',\n 'eru-wodh-sxv (2020-07-09 at 05 48 GMT-7).mp4',\n 'reconociendoDiscursos',\n 'API Project-c5c8667a19e3.json',\n '.vscode',\n 'SpeechToText.ipynb']"
          },
          "metadata": {},
          "execution_count": 17
        }
      ]
    },
    {
      "cell_type": "code",
      "metadata": {
        "id": "kFemMRiMq60t",
        "colab_type": "code",
        "colab": {}
      },
      "source": [
        "shutil.rmtree('audio_chunks')"
      ],
      "execution_count": 58,
      "outputs": []
    },
    {
      "cell_type": "code",
      "execution_count": 5,
      "metadata": {
        "tags": []
      },
      "outputs": [
        {
          "output_type": "stream",
          "name": "stdout",
          "text": "audio_chunks/chunk268.wav\naudio_chunks/chunk267.wav\naudio_chunks/chunk265.wav\naudio_chunks/chunk266.wav\naudio_chunks/chunk263.wav\naudio_chunks/chunk264.wav\naudio_chunks/chunk262.wav\naudio_chunks/chunk261.wav\naudio_chunks/chunk259.wav\naudio_chunks/chunk260.wav\naudio_chunks/chunk257.wav\naudio_chunks/chunk258.wav\naudio_chunks/chunk256.wav\naudio_chunks/chunk255.wav\naudio_chunks/chunk252.wav\naudio_chunks/chunk253.wav\naudio_chunks/chunk254.wav\naudio_chunks/chunk251.wav\naudio_chunks/chunk250.wav\naudio_chunks/chunk248.wav\naudio_chunks/chunk249.wav\naudio_chunks/chunk247.wav\naudio_chunks/chunk244.wav\naudio_chunks/chunk245.wav\naudio_chunks/chunk243.wav\naudio_chunks/chunk246.wav\naudio_chunks/chunk242.wav\naudio_chunks/chunk240.wav\naudio_chunks/chunk241.wav\naudio_chunks/chunk239.wav\naudio_chunks/chunk238.wav\naudio_chunks/chunk237.wav\naudio_chunks/chunk236.wav\naudio_chunks/chunk234.wav\naudio_chunks/chunk235.wav\naudio_chunks/chunk232.wav\naudio_chunks/chunk231.wav\naudio_chunks/chunk233.wav\naudio_chunks/chunk229.wav\naudio_chunks/chunk230.wav\naudio_chunks/chunk228.wav\naudio_chunks/chunk226.wav\naudio_chunks/chunk227.wav\naudio_chunks/chunk225.wav\naudio_chunks/chunk224.wav\naudio_chunks/chunk222.wav\naudio_chunks/chunk221.wav\naudio_chunks/chunk223.wav\naudio_chunks/chunk220.wav\naudio_chunks/chunk219.wav\naudio_chunks/chunk217.wav\naudio_chunks/chunk218.wav\naudio_chunks/chunk216.wav\naudio_chunks/chunk215.wav\naudio_chunks/chunk212.wav\naudio_chunks/chunk213.wav\naudio_chunks/chunk214.wav\naudio_chunks/chunk211.wav\naudio_chunks/chunk209.wav\naudio_chunks/chunk210.wav\naudio_chunks/chunk208.wav\naudio_chunks/chunk207.wav\naudio_chunks/chunk206.wav\naudio_chunks/chunk204.wav\naudio_chunks/chunk205.wav\naudio_chunks/chunk203.wav\naudio_chunks/chunk202.wav\naudio_chunks/chunk201.wav\naudio_chunks/chunk200.wav\naudio_chunks/chunk199.wav\naudio_chunks/chunk196.wav\naudio_chunks/chunk198.wav\naudio_chunks/chunk197.wav\naudio_chunks/chunk193.wav\naudio_chunks/chunk194.wav\naudio_chunks/chunk195.wav\naudio_chunks/chunk192.wav\naudio_chunks/chunk191.wav\naudio_chunks/chunk190.wav\naudio_chunks/chunk189.wav\naudio_chunks/chunk188.wav\naudio_chunks/chunk187.wav\naudio_chunks/chunk186.wav\naudio_chunks/chunk185.wav\naudio_chunks/chunk183.wav\naudio_chunks/chunk184.wav\naudio_chunks/chunk182.wav\naudio_chunks/chunk178.wav\naudio_chunks/chunk181.wav\naudio_chunks/chunk179.wav\naudio_chunks/chunk180.wav\naudio_chunks/chunk176.wav\naudio_chunks/chunk175.wav\naudio_chunks/chunk177.wav\naudio_chunks/chunk174.wav\naudio_chunks/chunk173.wav\naudio_chunks/chunk170.wav\naudio_chunks/chunk171.wav\naudio_chunks/chunk172.wav\naudio_chunks/chunk169.wav\naudio_chunks/chunk167.wav\naudio_chunks/chunk168.wav\naudio_chunks/chunk166.wav\naudio_chunks/chunk163.wav\naudio_chunks/chunk164.wav\naudio_chunks/chunk165.wav\naudio_chunks/chunk161.wav\naudio_chunks/chunk162.wav\naudio_chunks/chunk160.wav\naudio_chunks/chunk159.wav\naudio_chunks/chunk158.wav\naudio_chunks/chunk157.wav\naudio_chunks/chunk156.wav\naudio_chunks/chunk155.wav\naudio_chunks/chunk154.wav\naudio_chunks/chunk153.wav\naudio_chunks/chunk152.wav\naudio_chunks/chunk151.wav\naudio_chunks/chunk150.wav\naudio_chunks/chunk149.wav\naudio_chunks/chunk148.wav\naudio_chunks/chunk147.wav\naudio_chunks/chunk146.wav\naudio_chunks/chunk145.wav\naudio_chunks/chunk143.wav\naudio_chunks/chunk144.wav\naudio_chunks/chunk142.wav\naudio_chunks/chunk141.wav\naudio_chunks/chunk140.wav\naudio_chunks/chunk138.wav\naudio_chunks/chunk139.wav\naudio_chunks/chunk136.wav\naudio_chunks/chunk135.wav\naudio_chunks/chunk137.wav\naudio_chunks/chunk134.wav\naudio_chunks/chunk133.wav\naudio_chunks/chunk132.wav\naudio_chunks/chunk131.wav\naudio_chunks/chunk129.wav\naudio_chunks/chunk130.wav\naudio_chunks/chunk127.wav\naudio_chunks/chunk128.wav\naudio_chunks/chunk125.wav\naudio_chunks/chunk124.wav\naudio_chunks/chunk126.wav\naudio_chunks/chunk123.wav\naudio_chunks/chunk122.wav\naudio_chunks/chunk120.wav\naudio_chunks/chunk121.wav\naudio_chunks/chunk119.wav\naudio_chunks/chunk118.wav\naudio_chunks/chunk117.wav\naudio_chunks/chunk114.wav\naudio_chunks/chunk116.wav\naudio_chunks/chunk113.wav\naudio_chunks/chunk115.wav\naudio_chunks/chunk112.wav\naudio_chunks/chunk111.wav\naudio_chunks/chunk109.wav\naudio_chunks/chunk110.wav\naudio_chunks/chunk107.wav\naudio_chunks/chunk105.wav\naudio_chunks/chunk106.wav\naudio_chunks/chunk108.wav\naudio_chunks/chunk104.wav\naudio_chunks/chunk102.wav\naudio_chunks/chunk103.wav\naudio_chunks/chunk100.wav\naudio_chunks/chunk99.wav\naudio_chunks/chunk101.wav\naudio_chunks/chunk98.wav\naudio_chunks/chunk93.wav\naudio_chunks/chunk94.wav\naudio_chunks/chunk96.wav\naudio_chunks/chunk97.wav\naudio_chunks/chunk95.wav\naudio_chunks/chunk91.wav\naudio_chunks/chunk92.wav\naudio_chunks/chunk88.wav\naudio_chunks/chunk90.wav\naudio_chunks/chunk89.wav\naudio_chunks/chunk87.wav\naudio_chunks/chunk85.wav\naudio_chunks/chunk86.wav\naudio_chunks/chunk83.wav\naudio_chunks/chunk84.wav\naudio_chunks/chunk82.wav\naudio_chunks/chunk81.wav\naudio_chunks/chunk80.wav\naudio_chunks/chunk79.wav\naudio_chunks/chunk78.wav\naudio_chunks/chunk77.wav\naudio_chunks/chunk76.wav\naudio_chunks/chunk74.wav\naudio_chunks/chunk73.wav\naudio_chunks/chunk75.wav\naudio_chunks/chunk72.wav\naudio_chunks/chunk71.wav\naudio_chunks/chunk69.wav\naudio_chunks/chunk70.wav\naudio_chunks/chunk68.wav\naudio_chunks/chunk66.wav\naudio_chunks/chunk67.wav\naudio_chunks/chunk65.wav\naudio_chunks/chunk64.wav\naudio_chunks/chunk63.wav\naudio_chunks/chunk61.wav\naudio_chunks/chunk62.wav\naudio_chunks/chunk60.wav\naudio_chunks/chunk59.wav\naudio_chunks/chunk57.wav\naudio_chunks/chunk56.wav\naudio_chunks/chunk55.wav\naudio_chunks/chunk58.wav\naudio_chunks/chunk54.wav\naudio_chunks/chunk51.wav\naudio_chunks/chunk52.wav\naudio_chunks/chunk53.wav\naudio_chunks/chunk47.wav\naudio_chunks/chunk49.wav\naudio_chunks/chunk48.wav\naudio_chunks/chunk50.wav\naudio_chunks/chunk46.wav\naudio_chunks/chunk45.wav\naudio_chunks/chunk44.wav\naudio_chunks/chunk42.wav\naudio_chunks/chunk41.wav\naudio_chunks/chunk43.wav\naudio_chunks/chunk40.wav\naudio_chunks/chunk39.wav\naudio_chunks/chunk37.wav\naudio_chunks/chunk38.wav\naudio_chunks/chunk36.wav\naudio_chunks/chunk35.wav\naudio_chunks/chunk34.wav\naudio_chunks/chunk31.wav\naudio_chunks/chunk32.wav\naudio_chunks/chunk33.wav\naudio_chunks/chunk28.wav\naudio_chunks/chunk30.wav\naudio_chunks/chunk29.wav\naudio_chunks/chunk26.wav\naudio_chunks/chunk25.wav\naudio_chunks/chunk27.wav\naudio_chunks/chunk24.wav\naudio_chunks/chunk23.wav\naudio_chunks/chunk22.wav\naudio_chunks/chunk21.wav\naudio_chunks/chunk20.wav\naudio_chunks/chunk19.wav\naudio_chunks/chunk16.wav\naudio_chunks/chunk18.wav\naudio_chunks/chunk17.wav\naudio_chunks/chunk14.wav\naudio_chunks/chunk15.wav\naudio_chunks/chunk12.wav\naudio_chunks/chunk13.wav\naudio_chunks/chunk11.wav\naudio_chunks/chunk9.wav\naudio_chunks/chunk10.wav\naudio_chunks/chunk7.wav\naudio_chunks/chunk8.wav\naudio_chunks/chunk4.wav\naudio_chunks/chunk5.wav\naudio_chunks/chunk6.wav\naudio_chunks/chunk2.wav\naudio_chunks/chunk3.wav\naudio_chunks/chunk1.wav\naudio_chunks/chunk0.wav\n"
        }
      ],
      "source": [
        "import glob\n",
        "files = glob.glob(\"audio_chunks/*.wav\")\n",
        "files.sort(key=os.path.getmtime, reverse=True)\n",
        "for file in files:\n",
        "    print(file)"
      ]
    }
  ],
  "metadata": {
    "colab": {
      "name": "SpeechToText.ipynb",
      "provenance": [],
      "collapsed_sections": []
    },
    "kernelspec": {
      "name": "python36964bit369pyenv8867ba5dd5794cf898429060b96b97c8",
      "display_name": "Python 3.6.9 64-bit ('3.6.9': pyenv)"
    }
  },
  "nbformat": 4,
  "nbformat_minor": 0
}